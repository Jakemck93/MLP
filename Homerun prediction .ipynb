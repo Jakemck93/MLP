{
 "cells": [
  {
   "cell_type": "code",
   "execution_count": 29,
   "id": "107c4dc9",
   "metadata": {},
   "outputs": [],
   "source": [
    "import pandas as pd\n",
    "import numpy as np\n",
    "from micrograd.engine import Value\n",
    "from micrograd.nn import Neuron, Layer, MLP \n",
    "from pybaseball import statcast, batting_stats\n",
    "from datetime import datetime, timedelta\n",
    "import warnings\n",
    "warnings.filterwarnings('ignore')\n"
   ]
  },
  {
   "cell_type": "markdown",
   "id": "5b602231",
   "metadata": {},
   "source": [
    "For this example I will be training a binary classifer to predict if a pitch will be a home run or not based on a few pitch features. Because of the massive amount of data generated in baseball I am limiting the focus of this model to just 1 month of pitch data "
   ]
  },
  {
   "cell_type": "code",
   "execution_count": 30,
   "id": "4c50016d",
   "metadata": {},
   "outputs": [],
   "source": [
    "def get_data(start_date, end_date):\n",
    "    pitch_data = statcast(start_date, end_date)\n",
    "    features = []\n",
    "    labels = []\n",
    "    \n",
    "    for _, pitch in pitch_data.iterrows():\n",
    "        if pd.isna(pitch.release_speed) or pd.isna(pitch.release_spin_rate) or pd.isna(pitch.pfx_z):\n",
    "            continue\n",
    "        feature_vector = [\n",
    "            float(pitch.release_speed), #pitch velocity\n",
    "            float(pitch.release_spin_rate), #spin rate\n",
    "            float(pitch.pfx_z) #vertical movement\n",
    "        ]\n",
    "        label = 1 if pitch.events == 'home_run' else 0 \n",
    "        \n",
    "        features.append(feature_vector)\n",
    "        labels.append(label)\n",
    "    return np.array(features),np.array(labels)\n",
    "def normalize_data(X):\n",
    "    mean = np.mean(X,axis=0)\n",
    "    std = np.std(X,axis=0)\n",
    "    return (X - mean) / (std + 1e-8), (mean,std)"
   ]
  },
  {
   "cell_type": "code",
   "execution_count": 31,
   "id": "3acca1c6",
   "metadata": {
    "scrolled": true
   },
   "outputs": [
    {
     "name": "stdout",
     "output_type": "stream",
     "text": [
      "This is a large query, it may take a moment to complete\n"
     ]
    },
    {
     "name": "stderr",
     "output_type": "stream",
     "text": [
      "100%|██████████| 32/32 [00:39<00:00,  1.24s/it]\n"
     ]
    },
    {
     "name": "stdout",
     "output_type": "stream",
     "text": [
      "\n",
      "Training Model\n",
      "Epoch 0, Loss: 0.0080\n",
      "Epoch 10, Loss: 0.0076\n",
      "Epoch 20, Loss: 0.0076\n",
      "Epoch 30, Loss: 0.0076\n",
      "Epoch 40, Loss: 0.0076\n",
      "Epoch 50, Loss: 0.0076\n",
      "Epoch 60, Loss: 0.0076\n",
      "Epoch 70, Loss: 0.0076\n",
      "Epoch 80, Loss: 0.0076\n",
      "Epoch 90, Loss: 0.0076\n",
      "\n",
      "Dataset Statistics:\n",
      "Total Pitches Analyzed: 124880\n",
      "Number of Home Runs: 953\n",
      "Home Run Rate: 0.7631%\n"
     ]
    }
   ],
   "source": [
    "if __name__ == \"__main__\":\n",
    "    #get the data\n",
    "    start_date = '2023-03-30'\n",
    "    end_date = '2023-04-30'\n",
    "    #fetch and prepare data\n",
    "    X, y = get_data(start_date,end_date)\n",
    "    X_normalized, (mean,std) = normalize_data(X)\n",
    "    \n",
    "    model = nn.MLP(3,[4,1])\n",
    "    learning_rate = 0.01\n",
    "    \n",
    "    print(\"\\nTraining Model\")\n",
    "    for epoch in range(100):\n",
    "        total_loss = 0 \n",
    "        \n",
    "        for xi,yi in zip(X_normalized, y):\n",
    "            x = [Value(xij) for xij in xi]\n",
    "            \n",
    "            pred = model(x)\n",
    "            \n",
    "            loss = (pred - yi) * (pred - yi)\n",
    "            total_loss += loss.data\n",
    "            \n",
    "            model.zero_grad()\n",
    "            loss.backward()\n",
    "            \n",
    "            for p in model.parameters():\n",
    "                p.data += -learning_rate * p.grad\n",
    "        if epoch % 10 == 0:\n",
    "            print(f'Epoch {epoch}, Loss: {total_loss/len(X):.4f}')\n",
    "    #print some stats\n",
    "    print('\\nDataset Statistics:')\n",
    "    print(f\"Total Pitches Analyzed: {len(y)}\")\n",
    "    print(f\"Number of Home Runs: {sum(y)}\")\n",
    "    print(f\"Home Run Rate: {sum(y)/len(y):.4%}\")"
   ]
  },
  {
   "cell_type": "code",
   "execution_count": 35,
   "id": "146101cb",
   "metadata": {},
   "outputs": [],
   "source": [
    "example_pitch = [\n",
    "        95.0,    # velocity (mph)\n",
    "        2200.0,  # spin rate\n",
    "        0.2      # vertical movement\n",
    "    ]"
   ]
  },
  {
   "cell_type": "code",
   "execution_count": 36,
   "id": "49551885",
   "metadata": {},
   "outputs": [],
   "source": [
    "example_normalized = (example_pitch - mean) / (std + 1e-8)"
   ]
  },
  {
   "cell_type": "code",
   "execution_count": 39,
   "id": "edab01c1",
   "metadata": {},
   "outputs": [
    {
     "name": "stdout",
     "output_type": "stream",
     "text": [
      "Pitch characteristics:\n",
      "- Velocity: 95.0 mph\n",
      "- Spin Rate: 2200.0 rpm\n",
      "- Vertical Movement: 0.2 inches\n",
      "Home run probability: -0.1517%\n"
     ]
    },
    {
     "data": {
      "text/plain": [
       "Value(data=-0.0015174030700386642, grad=0)"
      ]
     },
     "execution_count": 39,
     "metadata": {},
     "output_type": "execute_result"
    }
   ],
   "source": [
    "pred = model([Value(x) for x in example_normalized])\n",
    "print(f\"Pitch characteristics:\")\n",
    "print(f\"- Velocity: {example_pitch[0]} mph\")\n",
    "print(f\"- Spin Rate: {example_pitch[1]} rpm\")\n",
    "print(f\"- Vertical Movement: {example_pitch[2]} inches\")\n",
    "print(f\"Home run probability: {pred.data:.4%}\")\n",
    "pred\n"
   ]
  },
  {
   "cell_type": "code",
   "execution_count": null,
   "id": "9d5e2aa4",
   "metadata": {},
   "outputs": [],
   "source": []
  }
 ],
 "metadata": {
  "kernelspec": {
   "display_name": "Python 3 (ipykernel)",
   "language": "python",
   "name": "python3"
  },
  "language_info": {
   "codemirror_mode": {
    "name": "ipython",
    "version": 3
   },
   "file_extension": ".py",
   "mimetype": "text/x-python",
   "name": "python",
   "nbconvert_exporter": "python",
   "pygments_lexer": "ipython3",
   "version": "3.11.4"
  }
 },
 "nbformat": 4,
 "nbformat_minor": 5
}
